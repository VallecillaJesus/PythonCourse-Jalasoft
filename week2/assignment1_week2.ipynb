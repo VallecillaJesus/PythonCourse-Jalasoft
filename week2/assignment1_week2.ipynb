{
 "cells": [
  {
   "cell_type": "markdown",
   "metadata": {},
   "source": [
    "**Week 2 - Assigment 1**"
   ]
  },
  {
   "cell_type": "code",
   "execution_count": 1,
   "metadata": {},
   "outputs": [],
   "source": [
    "## join array elements\n",
    "\n",
    "grades1 = [10, 20, 40, 67.7]\n",
    "grades2 = [100, 25.0, 40.5, 6.7]\n",
    "expected_result = [10, 20, 40, 67.7, 100, 25.0, 40.5, 6.7]\n",
    "\n",
    "result = []\n",
    "result.extend(grades1)\n",
    "result.extend(grades2)\n",
    "\n",
    "assert result == expected_result, f\"actual result {result} does not match expected result {expected_result}\""
   ]
  },
  {
   "cell_type": "code",
   "execution_count": 2,
   "metadata": {},
   "outputs": [],
   "source": [
    "## sum array elements\n",
    "\n",
    "grades1 = [10, 20, 40, 67.7]\n",
    "grades2 = [100, 25.0, 40.5, 6.7]\n",
    "expected_result = [110, 45.0, 80.5, 74.4]\n",
    "\n",
    "result = []\n",
    "for index, grade in enumerate(grades1):\n",
    "    result.append(grade + grades2[index])\n",
    "\n",
    "assert result == expected_result, f\"actual result {result} does not match expected result {expected_result}\""
   ]
  },
  {
   "cell_type": "code",
   "execution_count": 3,
   "metadata": {},
   "outputs": [
    {
     "name": "stdout",
     "output_type": "stream",
     "text": [
      "[-13.333, -11.667, -6.667, -5.556, -1.667]\n"
     ]
    }
   ],
   "source": [
    "import random\n",
    "# With arithmetic manipulation, we can convert current data to the way we want it to be. \n",
    "# Here's a real-world problem I face - I moved down to the United States about 6 years ago from Canada. \n",
    "# In Canada we use celciu for temperatures, and most of the time it has to be converted to the US system which uses farenheit. \n",
    "# Convert a number of farenheit values, say the weather forecase, to celcius\n",
    "# And the formula for conversion is ((°F − 32) × 5/9 = °C)\n",
    "farenheit = [0,-10,-5,-15,0]\n",
    "celcius = [(f-32) * 5/9 for f in farenheit]\n",
    "expected_celcius = [-17.77777777777778, -23.333333333333332, -20.555555555555557, -26.11111111111111, -17.77777777777778]\n",
    "assert celcius == expected_celcius, f\"actual result {celcius} does not match expected result {expected_celcius}\"\n",
    "\n",
    "# Now, create an array with random values of typical `Ann Arbor winter` farenheit values with sample_size specified by the user\n",
    "# then convert its values to celcius\n",
    "# result list must not contain duplicates, and celcius numbers must be floating point with 3 decimal places\n",
    "ANN_ARBOR_TEMPERATURES = range(1,30)\n",
    "\n",
    "sample_size = int(input('What will be the size of the array? '))\n",
    "\n",
    "celcius = [float(format((f-32) * 5/9,'.3f')) for f in set(random.sample(ANN_ARBOR_TEMPERATURES, sample_size))]\n",
    "expected_celcius = []\n",
    "\n",
    "print(celcius)"
   ]
  },
  {
   "cell_type": "code",
   "execution_count": 4,
   "metadata": {},
   "outputs": [],
   "source": [
    "## Now, we want to get a boolean array to check celcius degrees that are greater than -20 degrees\n",
    "\n",
    "farenheit = [0,-10,-5,-15,0]\n",
    "celcius_gt_20 = [int((f-32)*5/9) < -20 for f in farenheit]\n",
    "\n",
    "expected_celcius_gt_20 = [False, True, False, True, False]\n",
    "assert celcius_gt_20 == expected_celcius_gt_20, f\"actual result {celcius_gt_20} does not match expected result {expected_celcius_gt_20}\"\n"
   ]
  },
  {
   "cell_type": "code",
   "execution_count": 5,
   "metadata": {},
   "outputs": [
    {
     "name": "stdout",
     "output_type": "stream",
     "text": [
      "1 festival: 1970\n",
      "2 festival: 1972\n",
      "3 festival: 1974\n",
      "4 festival: 1976\n",
      "5 festival: 1978\n",
      "6 festival: 1980\n",
      "7 festival: 1982\n",
      "8 festival: 1984\n",
      "9 festival: 1986\n",
      "10 festival: 1988\n",
      "11 festival: 1990\n",
      "12 festival: 1992\n",
      "13 festival: 1994\n",
      "14 festival: 1996\n",
      "15 festival: 1998\n",
      "16 festival: 2000\n",
      "17 festival: 2002\n",
      "18 festival: 2004\n",
      "19 festival: 2006\n",
      "20 festival: 2008\n",
      "21 festival: 2010\n",
      "22 festival: 2012\n",
      "23 festival: 2014\n",
      "24 festival: 2016\n",
      "25 festival: 2018\n",
      "26 festival: 2020\n",
      "27 festival: 2022\n"
     ]
    }
   ],
   "source": [
    "## We've held music festivals, every other year since 1970 until now - 2022. How would we list the years?\n",
    "for index, year in enumerate(range(1970,2023,2)):\n",
    "    print(index+1, 'festival:', year)"
   ]
  },
  {
   "cell_type": "code",
   "execution_count": 6,
   "metadata": {},
   "outputs": [
    {
     "name": "stdout",
     "output_type": "stream",
     "text": [
      "\n",
      "    Fortune-teller\n",
      "\n",
      "    ---------------------\n",
      "    Lotto ticket:\n",
      "    \n",
      "\t 9\n",
      "\t 29\n",
      "\t 18\n",
      "\t 7\n",
      "\t 37\n"
     ]
    }
   ],
   "source": [
    "import random\n",
    "## A fortune-teller robot generate random lotto ticket suggestions for its customers. \n",
    "## How would you help the ronot pick five random numbers between 1 and 53.\n",
    "print('''\n",
    "    Fortune-teller\\n\n",
    "    ---------------------\n",
    "    Lotto ticket:\n",
    "    ''')\n",
    "for number in random.sample(range(1,54),5):\n",
    "    print('\\t',number)"
   ]
  },
  {
   "cell_type": "code",
   "execution_count": 7,
   "metadata": {},
   "outputs": [
    {
     "name": "stdout",
     "output_type": "stream",
     "text": [
      "item 1: $0.50\n",
      "item 2: $1.50\n",
      "item 3: $2.50\n"
     ]
    }
   ],
   "source": [
    "## Print this menu prices in the following format\n",
    "##  item 1: $0.50\n",
    "##  item 2: $1.50\n",
    "##  item 3: $2.50\n",
    "from os import sep\n",
    "\n",
    "\n",
    "menu_prices  = {\n",
    "    'item 1': 0.50,\n",
    "    'item 2': 1.50,\n",
    "    'item 3': 2.50\n",
    "}\n",
    "\n",
    "for item, price in menu_prices.items():\n",
    "    print(item,': $', format(price,'.2f'), sep='')\n"
   ]
  },
  {
   "cell_type": "code",
   "execution_count": 8,
   "metadata": {},
   "outputs": [
    {
     "name": "stdout",
     "output_type": "stream",
     "text": [
      "\n",
      "    Welcome to an unusual restaurant\n",
      "    --------------------------------\n",
      "    \t\tMenu\n",
      "\n",
      "\t0. Cheese sticks\n",
      "\t1. Cheese cake\n",
      "\t2. Banana split\n",
      "\t3. Chicken tenders\n",
      "\t4. Pizza\n",
      "\n",
      "    --------------------------------\n",
      "\n",
      "Orders:  ['Cheese cake']\n",
      "Orders:  ['Cheese cake', 'Banana split']\n",
      "Orders:  ['Cheese cake', 'Banana split', 'Cheese sticks']\n",
      "Orders:  ['Cheese cake', 'Banana split', 'Cheese sticks', 'Cheese sticks']\n",
      "\n",
      "    ---------------------------------\n",
      "    This is your order:\n",
      "    ['Cheese cake', 'Banana split', 'Cheese sticks', 'Cheese sticks', 'Chicken tenders']\n",
      "\n",
      "    Thanks for visiting us.\n",
      "\n"
     ]
    }
   ],
   "source": [
    "## Create an console interface for ordering from a menu, \n",
    "## it will let customers order and add as many menu items as they want\n",
    "# Add the user what they want to order as: what would you like to order? (Q to quit)\n",
    "# while the order is not equal for Q for quit, find the order and add it to the list if it exists\n",
    "# else let the customer know that the `Menu item does not exist`    \n",
    "# See if the customer wants to order anything else `Anything else? (Q to Quit)`\n",
    "\n",
    "menu = {\n",
    "    0 :'cheese sticks',\n",
    "    1 : 'cheese cake',\n",
    "    2 :'banana split',\n",
    "    3 :'chicken tenders',\n",
    "    4 :'pizza'\n",
    "}\n",
    "\n",
    "welcome_template = f'''\n",
    "    Welcome to an unusual restaurant\n",
    "    --------------------------------\n",
    "    \\t\\tMenu\n",
    "''' \n",
    "\n",
    "orders = []\n",
    "\n",
    "print(welcome_template)\n",
    "for key,value in menu.items():\n",
    "    print(f'''\\t{key}. {value.capitalize()}''')\n",
    "print('''\n",
    "    --------------------------------\n",
    "''')\n",
    "\n",
    "while True:\n",
    "\n",
    "    order = input('What would you like to order? (Q to quit)').lower()\n",
    "    if order == 'q':\n",
    "        break\n",
    "\n",
    "    order = int(order)\n",
    "    if order in menu.keys():\n",
    "        orders.append(menu[order].capitalize())\n",
    "        print('Orders: ', orders)\n",
    "    else:\n",
    "        print('Menu item does not exist')\n",
    "\n",
    "while True:\n",
    "    order = input('Anything else?')\n",
    "\n",
    "    if order == 'q':\n",
    "        break\n",
    "\n",
    "    order = int(order)\n",
    "    if order in menu.keys():\n",
    "        orders.append(menu[order].capitalize())\n",
    "        break\n",
    "    else:\n",
    "        print('Menu item does not exist') \n",
    "\n",
    "print(f'''\n",
    "    ---------------------------------\n",
    "    This is your order:\n",
    "    {orders}\n",
    "\n",
    "    Thanks for visiting us.\n",
    "''')"
   ]
  },
  {
   "cell_type": "code",
   "execution_count": 9,
   "metadata": {},
   "outputs": [
    {
     "name": "stdout",
     "output_type": "stream",
     "text": [
      "\n",
      "    Welcome to an unusual restaurant\n",
      "    --------------------------------\n",
      "    \t\tMenu\n",
      "\n",
      "\t0. Cheese sticks\n",
      "\t1. Cheese cake\n",
      "\t2. Banana split\n",
      "\t3. Chicken tenders\n",
      "\t4. Pizza\n",
      "\n",
      "    --------------------------------\n",
      "\n",
      "We're all out of that!\n",
      "We're all out of that!\n",
      "Menu item does not exist\n",
      "Orders:  ['Cheese cake']\n",
      "\n",
      "    ---------------------------------\n",
      "    This is your order:\n",
      "    ['Cheese cake']\n",
      "\n",
      "    Thanks for visiting us.\n",
      "\n"
     ]
    }
   ],
   "source": [
    "## We have a problem, we run out of `Cheese sticks` in the menu, we'll need to let the customer know\n",
    "## if the order is `Cheese sticks` print `We're all out of that!` and skip the rest of the code\n",
    "\n",
    "menu = {\n",
    "    0 :'cheese sticks',\n",
    "    1 : 'cheese cake',\n",
    "    2 :'banana split',\n",
    "    3 :'chicken tenders',\n",
    "    4 :'pizza'\n",
    "}\n",
    "\n",
    "welcome_template = f'''\n",
    "    Welcome to an unusual restaurant\n",
    "    --------------------------------\n",
    "    \\t\\tMenu\n",
    "''' \n",
    "\n",
    "orders = []\n",
    "\n",
    "print(welcome_template)\n",
    "for key,value in menu.items():\n",
    "    print(f'''\\t{key}. {value.capitalize()}''')\n",
    "print('''\n",
    "    --------------------------------\n",
    "''')\n",
    "\n",
    "while True:\n",
    "\n",
    "    order = input('What would you like to order? (Q to quit)').lower()\n",
    "    if order == 'q':\n",
    "        break\n",
    "\n",
    "    order = int(order)\n",
    "    if order in menu.keys():\n",
    "        menu_item = menu[order].capitalize()\n",
    "        if menu_item == 'Cheese sticks':\n",
    "            print(\"We're all out of that!\")\n",
    "        else:\n",
    "            orders.append(menu_item)\n",
    "            print('Orders: ', orders)\n",
    "    else:\n",
    "        print('Menu item does not exist')\n",
    "\n",
    "while True:\n",
    "    order = input('Anything else?')\n",
    "\n",
    "    if order == 'q':\n",
    "        break\n",
    "\n",
    "    order = int(order)\n",
    "    if order in menu.keys():\n",
    "        menu_item = menu[order].capitalize()\n",
    "        if menu_item == 'Cheese sticks':\n",
    "            print(\"We're all out of that!\")\n",
    "        else:\n",
    "            orders.append(menu_item)\n",
    "            print('Orders: ', orders)\n",
    "            break\n",
    "    else:\n",
    "        print('Menu item does not exist') \n",
    "\n",
    "print(f'''\n",
    "    ---------------------------------\n",
    "    This is your order:\n",
    "    {orders}\n",
    "\n",
    "    Thanks for visiting us.\n",
    "''')"
   ]
  },
  {
   "cell_type": "code",
   "execution_count": 10,
   "metadata": {},
   "outputs": [],
   "source": [
    "## We want to create a \"guess the number\" game for our fortune-teller robot. \n",
    "## If you guess the random number between 1 and 10, you win a crystal ball!\n",
    "\n",
    "# There is some code that's been written for us \n",
    "# -- getting the random number the user needs to guess, \n",
    "# asking the user to guess a number, and printing 'You win!' if they win. \n",
    "# We need to write the code to compare the users response to num.\n",
    "import random\n",
    "\n",
    "num = random.randint(1, 10)\n",
    "\n",
    "guess = int(input('Guess a number between 1 and 10'))\n",
    "# YOUR CODE HERE\n",
    "if num == guess: \n",
    "    print('You win!') "
   ]
  },
  {
   "cell_type": "code",
   "execution_count": 11,
   "metadata": {},
   "outputs": [
    {
     "name": "stdout",
     "output_type": "stream",
     "text": [
      "You lose!\n",
      "The number was 6\n"
     ]
    }
   ],
   "source": [
    "## Now our fortune-teller robot has a guess the number game — if you guess the random number between 1 and 10, you win a crystal ball! \n",
    "## But the game lets the user guess 10 times, so they always win... #fail. \n",
    "## Let's fix the game so they can only guess three times.\n",
    "## After the while loop ends, check if guess is equal to num, then print 'You win!'. Otherwise, print 'You lose! The number was ' and also print num.\n",
    "import random\n",
    "\n",
    "num = random.randint(1, 10)\n",
    "guess = []\n",
    "\n",
    "for i in range(3):\n",
    "    guess.append(int(input('Guess a number between 1 and 10')))\n",
    "\n",
    "if num in guess:\n",
    "    print('You win!')\n",
    "else:\n",
    "    print('You lose!')\n",
    "    print('The number was', num)"
   ]
  }
 ],
 "metadata": {
  "kernelspec": {
   "display_name": "Python 3.10.7 64-bit",
   "language": "python",
   "name": "python3"
  },
  "language_info": {
   "codemirror_mode": {
    "name": "ipython",
    "version": 3
   },
   "file_extension": ".py",
   "mimetype": "text/x-python",
   "name": "python",
   "nbconvert_exporter": "python",
   "pygments_lexer": "ipython3",
   "version": "3.10.7"
  },
  "orig_nbformat": 4,
  "vscode": {
   "interpreter": {
    "hash": "c970215ac360853b6b06313ffa4d0c020414eb5e1571e9c905e344be6cfda0b7"
   }
  }
 },
 "nbformat": 4,
 "nbformat_minor": 2
}
